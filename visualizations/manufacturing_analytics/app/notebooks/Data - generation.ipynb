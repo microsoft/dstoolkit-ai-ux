{
 "cells": [
  {
   "cell_type": "code",
   "execution_count": 94,
   "metadata": {},
   "outputs": [],
   "source": [
    "import pandas as pd\n",
    "import numpy as np"
   ]
  },
  {
   "cell_type": "code",
   "execution_count": 82,
   "metadata": {},
   "outputs": [],
   "source": [
    "df = pd.read_csv('../datasets/energy_consumption.csv')\n"
   ]
  },
  {
   "cell_type": "code",
   "execution_count": 83,
   "metadata": {},
   "outputs": [
    {
     "data": {
      "text/plain": [
       "Index(['energy', 'condition', 'volume', 'weight', 'machine_id', 'speed'], dtype='object')"
      ]
     },
     "execution_count": 83,
     "metadata": {},
     "output_type": "execute_result"
    }
   ],
   "source": [
    "df.columns"
   ]
  },
  {
   "cell_type": "code",
   "execution_count": 84,
   "metadata": {},
   "outputs": [],
   "source": [
    "for c in ['condition','volume', 'weight', 'machine_id', 'speed']:\n",
    "    df[c] = pd.Categorical(df[c])"
   ]
  },
  {
   "cell_type": "code",
   "execution_count": 85,
   "metadata": {},
   "outputs": [],
   "source": [
    "for c in ['volume', 'weight', 'speed']:\n",
    "    df[c] = df[c].cat.codes\n",
    "    df[c] = df[c] .astype(int)"
   ]
  },
  {
   "cell_type": "code",
   "execution_count": 92,
   "metadata": {},
   "outputs": [],
   "source": [
    "df['condition'] = 'C000'+df['condition'].str.upper()"
   ]
  },
  {
   "cell_type": "code",
   "execution_count": 88,
   "metadata": {},
   "outputs": [],
   "source": [
    "df['energy'] = (df['energy'] * df['energy'] / 10).round(1) \n"
   ]
  },
  {
   "cell_type": "code",
   "execution_count": 89,
   "metadata": {},
   "outputs": [],
   "source": [
    "df['speed'] = ((df['speed'] + 100)**2 / 100)"
   ]
  },
  {
   "cell_type": "code",
   "execution_count": 97,
   "metadata": {},
   "outputs": [],
   "source": [
    "df['volume'] = (df['energy'] / 100 + 20 + np.random.normal(10,5,df['energy'].shape[0])).round()"
   ]
  },
  {
   "cell_type": "code",
   "execution_count": 151,
   "metadata": {},
   "outputs": [],
   "source": [
    "df['weight'] = (df['energy'] / 100 + 5 + np.random.normal(2,1,df['energy'].shape[0])).round()\n",
    "\n",
    "df['volume'] = (df['energy'] / 10 + 5 + np.random.normal(2,1,df['energy'].shape[0])).round()\n",
    "\n",
    "df['speed'] = (1/(df['energy']+np.random.normal(0,5,df['energy'].shape[0]))*10000).round(1)\n"
   ]
  },
  {
   "cell_type": "code",
   "execution_count": 154,
   "metadata": {},
   "outputs": [],
   "source": [
    "df['machine_id'] = df['machine_id'].replace({'c': 'M1', 'f': 'M2', 'a':'M3','d':'M4', 'g':'M5'})"
   ]
  },
  {
   "cell_type": "code",
   "execution_count": 155,
   "metadata": {},
   "outputs": [
    {
     "data": {
      "text/html": [
       "<div>\n",
       "<style scoped>\n",
       "    .dataframe tbody tr th:only-of-type {\n",
       "        vertical-align: middle;\n",
       "    }\n",
       "\n",
       "    .dataframe tbody tr th {\n",
       "        vertical-align: top;\n",
       "    }\n",
       "\n",
       "    .dataframe thead th {\n",
       "        text-align: right;\n",
       "    }\n",
       "</style>\n",
       "<table border=\"1\" class=\"dataframe\">\n",
       "  <thead>\n",
       "    <tr style=\"text-align: right;\">\n",
       "      <th></th>\n",
       "      <th>energy</th>\n",
       "      <th>condition</th>\n",
       "      <th>volume</th>\n",
       "      <th>weight</th>\n",
       "      <th>machine_id</th>\n",
       "      <th>speed</th>\n",
       "    </tr>\n",
       "  </thead>\n",
       "  <tbody>\n",
       "    <tr>\n",
       "      <th>0</th>\n",
       "      <td>1711.1</td>\n",
       "      <td>C000K</td>\n",
       "      <td>179.0</td>\n",
       "      <td>25.0</td>\n",
       "      <td>M3</td>\n",
       "      <td>5.9</td>\n",
       "    </tr>\n",
       "    <tr>\n",
       "      <th>1</th>\n",
       "      <td>581.6</td>\n",
       "      <td>C000AZ</td>\n",
       "      <td>63.0</td>\n",
       "      <td>13.0</td>\n",
       "      <td>M1</td>\n",
       "      <td>16.9</td>\n",
       "    </tr>\n",
       "    <tr>\n",
       "      <th>2</th>\n",
       "      <td>650.0</td>\n",
       "      <td>C000AZ</td>\n",
       "      <td>71.0</td>\n",
       "      <td>12.0</td>\n",
       "      <td>M2</td>\n",
       "      <td>15.1</td>\n",
       "    </tr>\n",
       "    <tr>\n",
       "      <th>3</th>\n",
       "      <td>608.7</td>\n",
       "      <td>C000AZ</td>\n",
       "      <td>68.0</td>\n",
       "      <td>13.0</td>\n",
       "      <td>M2</td>\n",
       "      <td>16.7</td>\n",
       "    </tr>\n",
       "    <tr>\n",
       "      <th>4</th>\n",
       "      <td>863.6</td>\n",
       "      <td>C000T</td>\n",
       "      <td>94.0</td>\n",
       "      <td>17.0</td>\n",
       "      <td>M1</td>\n",
       "      <td>11.7</td>\n",
       "    </tr>\n",
       "    <tr>\n",
       "      <th>...</th>\n",
       "      <td>...</td>\n",
       "      <td>...</td>\n",
       "      <td>...</td>\n",
       "      <td>...</td>\n",
       "      <td>...</td>\n",
       "      <td>...</td>\n",
       "    </tr>\n",
       "    <tr>\n",
       "      <th>3980</th>\n",
       "      <td>1153.3</td>\n",
       "      <td>C000AK</td>\n",
       "      <td>123.0</td>\n",
       "      <td>17.0</td>\n",
       "      <td>M1</td>\n",
       "      <td>8.7</td>\n",
       "    </tr>\n",
       "    <tr>\n",
       "      <th>3981</th>\n",
       "      <td>1183.1</td>\n",
       "      <td>C000J</td>\n",
       "      <td>126.0</td>\n",
       "      <td>19.0</td>\n",
       "      <td>M4</td>\n",
       "      <td>8.5</td>\n",
       "    </tr>\n",
       "    <tr>\n",
       "      <th>3982</th>\n",
       "      <td>1192.9</td>\n",
       "      <td>C000AK</td>\n",
       "      <td>126.0</td>\n",
       "      <td>19.0</td>\n",
       "      <td>M3</td>\n",
       "      <td>8.5</td>\n",
       "    </tr>\n",
       "    <tr>\n",
       "      <th>3983</th>\n",
       "      <td>765.3</td>\n",
       "      <td>C000AL</td>\n",
       "      <td>82.0</td>\n",
       "      <td>14.0</td>\n",
       "      <td>M2</td>\n",
       "      <td>13.0</td>\n",
       "    </tr>\n",
       "    <tr>\n",
       "      <th>3984</th>\n",
       "      <td>1228.8</td>\n",
       "      <td>C000Z</td>\n",
       "      <td>128.0</td>\n",
       "      <td>20.0</td>\n",
       "      <td>M1</td>\n",
       "      <td>8.2</td>\n",
       "    </tr>\n",
       "  </tbody>\n",
       "</table>\n",
       "<p>3985 rows × 6 columns</p>\n",
       "</div>"
      ],
      "text/plain": [
       "      energy condition  volume  weight machine_id  speed\n",
       "0     1711.1     C000K   179.0    25.0         M3    5.9\n",
       "1      581.6    C000AZ    63.0    13.0         M1   16.9\n",
       "2      650.0    C000AZ    71.0    12.0         M2   15.1\n",
       "3      608.7    C000AZ    68.0    13.0         M2   16.7\n",
       "4      863.6     C000T    94.0    17.0         M1   11.7\n",
       "...      ...       ...     ...     ...        ...    ...\n",
       "3980  1153.3    C000AK   123.0    17.0         M1    8.7\n",
       "3981  1183.1     C000J   126.0    19.0         M4    8.5\n",
       "3982  1192.9    C000AK   126.0    19.0         M3    8.5\n",
       "3983   765.3    C000AL    82.0    14.0         M2   13.0\n",
       "3984  1228.8     C000Z   128.0    20.0         M1    8.2\n",
       "\n",
       "[3985 rows x 6 columns]"
      ]
     },
     "execution_count": 155,
     "metadata": {},
     "output_type": "execute_result"
    }
   ],
   "source": [
    "df"
   ]
  },
  {
   "cell_type": "code",
   "execution_count": 156,
   "metadata": {},
   "outputs": [],
   "source": [
    "df.to_csv('../datasets/energy_consumption.csv',index=False)"
   ]
  },
  {
   "cell_type": "code",
   "execution_count": null,
   "metadata": {},
   "outputs": [],
   "source": []
  }
 ],
 "metadata": {
  "interpreter": {
   "hash": "f9ea5abf22a07b85e9bf9a5b4559740fd04a2c83982993619f47f79687ac8ab1"
  },
  "kernelspec": {
   "display_name": "Python 3.8.12 ('env-exp')",
   "language": "python",
   "name": "python3"
  },
  "language_info": {
   "codemirror_mode": {
    "name": "ipython",
    "version": 3
   },
   "file_extension": ".py",
   "mimetype": "text/x-python",
   "name": "python",
   "nbconvert_exporter": "python",
   "pygments_lexer": "ipython3",
   "version": "3.8.12"
  },
  "orig_nbformat": 4
 },
 "nbformat": 4,
 "nbformat_minor": 2
}
