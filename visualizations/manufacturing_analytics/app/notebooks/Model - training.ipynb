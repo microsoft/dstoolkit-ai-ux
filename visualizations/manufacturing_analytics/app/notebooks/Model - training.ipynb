{
 "cells": [
  {
   "cell_type": "code",
   "execution_count": 25,
   "metadata": {},
   "outputs": [],
   "source": [
    "import pandas as pd\n",
    "import numpy as np\n",
    "from sklearn.model_selection import train_test_split\n",
    "import sklearn.metrics as sm\n",
    "from sklearn.linear_model import ElasticNet\n",
    "import joblib\n",
    "\n"
   ]
  },
  {
   "cell_type": "code",
   "execution_count": 3,
   "metadata": {},
   "outputs": [],
   "source": [
    "df = pd.read_csv('../datasets/energy_consumption.csv')\n"
   ]
  },
  {
   "cell_type": "code",
   "execution_count": 18,
   "metadata": {},
   "outputs": [
    {
     "data": {
      "text/plain": [
       "array(['M3', 'M1', 'M2', 'M4', 'M5'], dtype=object)"
      ]
     },
     "execution_count": 18,
     "metadata": {},
     "output_type": "execute_result"
    }
   ],
   "source": [
    "df['machine_id'].unique()"
   ]
  },
  {
   "cell_type": "code",
   "execution_count": 21,
   "metadata": {},
   "outputs": [],
   "source": [
    "dict_model = {}\n",
    "\n",
    "for machine in df['machine_id'].unique():\n",
    "    \n",
    "    df_tmp = df.query(f'machine_id == \"{machine}\"').copy()\n",
    "    X = df_tmp.drop(['energy','condition','machine_id'],axis=1).copy()\n",
    "    y = df_tmp['energy'].copy()\n",
    "\n",
    "    X_train, X_test, y_train, y_test = train_test_split(X, y, test_size=0.33, random_state=1)\n",
    "\n",
    "    model = ElasticNet()\n",
    "    model.fit(X_train,y_train)\n",
    "    y_pred = model.predict(X_test)\n",
    "    score = sm.r2_score(y_test,y_pred)\n",
    "    dict_model[machine] = {'model':model, 'r2': score}\n"
   ]
  },
  {
   "cell_type": "code",
   "execution_count": 28,
   "metadata": {},
   "outputs": [],
   "source": [
    "with open('../list_models.pkl','wb') as f_out:\n",
    "    joblib.dump(dict_model,f_out)"
   ]
  },
  {
   "cell_type": "code",
   "execution_count": 156,
   "metadata": {},
   "outputs": [],
   "source": [
    "df.to_csv('./datasets/energy_consumption.csv',index=False)"
   ]
  },
  {
   "cell_type": "code",
   "execution_count": 29,
   "metadata": {},
   "outputs": [],
   "source": []
  },
  {
   "cell_type": "code",
   "execution_count": 47,
   "metadata": {},
   "outputs": [],
   "source": [
    "import random\n",
    "import datetime\n"
   ]
  },
  {
   "cell_type": "code",
   "execution_count": 41,
   "metadata": {},
   "outputs": [],
   "source": [
    "starting_date = pd.Timestamp(datetime.datetime.now()).round('H')"
   ]
  },
  {
   "cell_type": "code",
   "execution_count": 42,
   "metadata": {},
   "outputs": [],
   "source": [
    "dates = pd.date_range(start=starting_date, end=starting_date+pd.Timedelta('7days'),freq='1H')"
   ]
  },
  {
   "cell_type": "code",
   "execution_count": 50,
   "metadata": {},
   "outputs": [],
   "source": [
    "dict_plan = {}\n",
    "for m in df['machine_id'].unique():\n",
    "    select_sample = [random.choice([True, False]) for x in dates]\n",
    "    dict_plan[m] = df.query(f'machine_id==\"{m}\"').sample(len(dates)).iloc[select_sample,:]"
   ]
  },
  {
   "cell_type": "code",
   "execution_count": 51,
   "metadata": {},
   "outputs": [
    {
     "data": {
      "text/html": [
       "<div>\n",
       "<style scoped>\n",
       "    .dataframe tbody tr th:only-of-type {\n",
       "        vertical-align: middle;\n",
       "    }\n",
       "\n",
       "    .dataframe tbody tr th {\n",
       "        vertical-align: top;\n",
       "    }\n",
       "\n",
       "    .dataframe thead th {\n",
       "        text-align: right;\n",
       "    }\n",
       "</style>\n",
       "<table border=\"1\" class=\"dataframe\">\n",
       "  <thead>\n",
       "    <tr style=\"text-align: right;\">\n",
       "      <th></th>\n",
       "      <th>energy</th>\n",
       "      <th>condition</th>\n",
       "      <th>volume</th>\n",
       "      <th>weight</th>\n",
       "      <th>machine_id</th>\n",
       "      <th>speed</th>\n",
       "    </tr>\n",
       "  </thead>\n",
       "  <tbody>\n",
       "    <tr>\n",
       "      <th>456</th>\n",
       "      <td>1072.1</td>\n",
       "      <td>C000E</td>\n",
       "      <td>114.0</td>\n",
       "      <td>18.0</td>\n",
       "      <td>M5</td>\n",
       "      <td>9.3</td>\n",
       "    </tr>\n",
       "    <tr>\n",
       "      <th>2414</th>\n",
       "      <td>898.5</td>\n",
       "      <td>C000Y</td>\n",
       "      <td>96.0</td>\n",
       "      <td>15.0</td>\n",
       "      <td>M5</td>\n",
       "      <td>11.1</td>\n",
       "    </tr>\n",
       "    <tr>\n",
       "      <th>445</th>\n",
       "      <td>1184.8</td>\n",
       "      <td>C000W</td>\n",
       "      <td>125.0</td>\n",
       "      <td>19.0</td>\n",
       "      <td>M5</td>\n",
       "      <td>8.4</td>\n",
       "    </tr>\n",
       "    <tr>\n",
       "      <th>2482</th>\n",
       "      <td>1359.8</td>\n",
       "      <td>C000W</td>\n",
       "      <td>141.0</td>\n",
       "      <td>20.0</td>\n",
       "      <td>M5</td>\n",
       "      <td>7.4</td>\n",
       "    </tr>\n",
       "    <tr>\n",
       "      <th>3314</th>\n",
       "      <td>953.2</td>\n",
       "      <td>C000AY</td>\n",
       "      <td>103.0</td>\n",
       "      <td>17.0</td>\n",
       "      <td>M5</td>\n",
       "      <td>10.5</td>\n",
       "    </tr>\n",
       "    <tr>\n",
       "      <th>...</th>\n",
       "      <td>...</td>\n",
       "      <td>...</td>\n",
       "      <td>...</td>\n",
       "      <td>...</td>\n",
       "      <td>...</td>\n",
       "      <td>...</td>\n",
       "    </tr>\n",
       "    <tr>\n",
       "      <th>420</th>\n",
       "      <td>1127.0</td>\n",
       "      <td>C000W</td>\n",
       "      <td>120.0</td>\n",
       "      <td>19.0</td>\n",
       "      <td>M5</td>\n",
       "      <td>8.9</td>\n",
       "    </tr>\n",
       "    <tr>\n",
       "      <th>2447</th>\n",
       "      <td>1179.2</td>\n",
       "      <td>C000V</td>\n",
       "      <td>125.0</td>\n",
       "      <td>19.0</td>\n",
       "      <td>M5</td>\n",
       "      <td>8.5</td>\n",
       "    </tr>\n",
       "    <tr>\n",
       "      <th>3263</th>\n",
       "      <td>1181.1</td>\n",
       "      <td>C000J</td>\n",
       "      <td>125.0</td>\n",
       "      <td>20.0</td>\n",
       "      <td>M5</td>\n",
       "      <td>8.4</td>\n",
       "    </tr>\n",
       "    <tr>\n",
       "      <th>3433</th>\n",
       "      <td>1116.0</td>\n",
       "      <td>C000X</td>\n",
       "      <td>116.0</td>\n",
       "      <td>20.0</td>\n",
       "      <td>M5</td>\n",
       "      <td>8.9</td>\n",
       "    </tr>\n",
       "    <tr>\n",
       "      <th>2442</th>\n",
       "      <td>745.3</td>\n",
       "      <td>C000Y</td>\n",
       "      <td>81.0</td>\n",
       "      <td>15.0</td>\n",
       "      <td>M5</td>\n",
       "      <td>13.5</td>\n",
       "    </tr>\n",
       "  </tbody>\n",
       "</table>\n",
       "<p>84 rows × 6 columns</p>\n",
       "</div>"
      ],
      "text/plain": [
       "      energy condition  volume  weight machine_id  speed\n",
       "456   1072.1     C000E   114.0    18.0         M5    9.3\n",
       "2414   898.5     C000Y    96.0    15.0         M5   11.1\n",
       "445   1184.8     C000W   125.0    19.0         M5    8.4\n",
       "2482  1359.8     C000W   141.0    20.0         M5    7.4\n",
       "3314   953.2    C000AY   103.0    17.0         M5   10.5\n",
       "...      ...       ...     ...     ...        ...    ...\n",
       "420   1127.0     C000W   120.0    19.0         M5    8.9\n",
       "2447  1179.2     C000V   125.0    19.0         M5    8.5\n",
       "3263  1181.1     C000J   125.0    20.0         M5    8.4\n",
       "3433  1116.0     C000X   116.0    20.0         M5    8.9\n",
       "2442   745.3     C000Y    81.0    15.0         M5   13.5\n",
       "\n",
       "[84 rows x 6 columns]"
      ]
     },
     "execution_count": 51,
     "metadata": {},
     "output_type": "execute_result"
    }
   ],
   "source": [
    "dict_plan[m]"
   ]
  },
  {
   "cell_type": "code",
   "execution_count": null,
   "metadata": {},
   "outputs": [],
   "source": []
  }
 ],
 "metadata": {
  "interpreter": {
   "hash": "f9ea5abf22a07b85e9bf9a5b4559740fd04a2c83982993619f47f79687ac8ab1"
  },
  "kernelspec": {
   "display_name": "Python 3.8.12 ('env-exp')",
   "language": "python",
   "name": "python3"
  },
  "language_info": {
   "codemirror_mode": {
    "name": "ipython",
    "version": 3
   },
   "file_extension": ".py",
   "mimetype": "text/x-python",
   "name": "python",
   "nbconvert_exporter": "python",
   "pygments_lexer": "ipython3",
   "version": "3.8.12"
  },
  "orig_nbformat": 4
 },
 "nbformat": 4,
 "nbformat_minor": 2
}
